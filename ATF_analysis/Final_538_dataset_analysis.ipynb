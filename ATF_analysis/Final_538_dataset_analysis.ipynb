{
 "cells": [
  {
   "cell_type": "markdown",
   "metadata": {
    "toc": "true"
   },
   "source": [
    " # Table of Contents\n",
    "<div class=\"toc\" style=\"margin-top: 1em;\"><ul class=\"toc-item\" id=\"toc-level0\"><ul class=\"toc-item\"><ul class=\"toc-item\"><li><span><a href=\"http://localhost:8888/notebooks/OneDrive/Documents/data_science_stuff/Personal_projects/ATF%20analysis/Final_538_dataset_analysis.ipynb#Show-class-values-for-race\" data-toc-modified-id=\"Show-class-values-for-race-0.0.1\">Show class values for race</a></span></li><li><span><a href=\"http://localhost:8888/notebooks/OneDrive/Documents/data_science_stuff/Personal_projects/ATF%20analysis/Final_538_dataset_analysis.ipynb#Replace-categorical-column-with-numbers\" data-toc-modified-id=\"Replace-categorical-column-with-numbers-0.0.2\">Replace categorical column with numbers</a></span></li></ul><li><span><a href=\"http://localhost:8888/notebooks/OneDrive/Documents/data_science_stuff/Personal_projects/ATF%20analysis/Final_538_dataset_analysis.ipynb#Visualizing-categorical-data\" data-toc-modified-id=\"Visualizing-categorical-data-0.1\">Visualizing categorical data</a></span><ul class=\"toc-item\"><li><span><a href=\"http://localhost:8888/notebooks/OneDrive/Documents/data_science_stuff/Personal_projects/ATF%20analysis/Final_538_dataset_analysis.ipynb#Value-counts-for-all-categorical-features\" data-toc-modified-id=\"Value-counts-for-all-categorical-features-0.1.1\">Value counts for all categorical features</a></span></li></ul></li><li><span><a href=\"http://localhost:8888/notebooks/OneDrive/Documents/data_science_stuff/Personal_projects/ATF%20analysis/Final_538_dataset_analysis.ipynb#Modifying-the-dataset-to-create-binary-classification-problem\" data-toc-modified-id=\"Modifying-the-dataset-to-create-binary-classification-problem-0.2\">Modifying the dataset to create binary classification problem</a></span><ul class=\"toc-item\"><li><span><a href=\"http://localhost:8888/notebooks/OneDrive/Documents/data_science_stuff/Personal_projects/ATF%20analysis/Final_538_dataset_analysis.ipynb#Dropping-police-column\" data-toc-modified-id=\"Dropping-police-column-0.2.1\">Dropping police column</a></span></li><li><span><a href=\"http://localhost:8888/notebooks/OneDrive/Documents/data_science_stuff/Personal_projects/ATF%20analysis/Final_538_dataset_analysis.ipynb#Dropping-rows-with-non-white/non-black-victims\" data-toc-modified-id=\"Dropping-rows-with-non-white/non-black-victims-0.2.2\">Dropping rows with non-white/non-black victims</a></span></li><li><span><a href=\"http://localhost:8888/notebooks/OneDrive/Documents/data_science_stuff/Personal_projects/ATF%20analysis/Final_538_dataset_analysis.ipynb#Creating-training-and-testing-set\" data-toc-modified-id=\"Creating-training-and-testing-set-0.2.3\">Creating training and testing set</a></span></li><li><span><a href=\"http://localhost:8888/notebooks/OneDrive/Documents/data_science_stuff/Personal_projects/ATF%20analysis/Final_538_dataset_analysis.ipynb#Training-a-decision-tree\" data-toc-modified-id=\"Training-a-decision-tree-0.2.4\">Training a decision tree</a></span></li></ul></li></ul></ul></div>"
   ]
  },
  {
   "cell_type": "markdown",
   "metadata": {},
   "source": [
    "The goal here is to create a model using a decision tree on dataset. Decision trees are amazing tools to easily interpret a model since they split the data based on on certain thresholds for each column. They are easy to train with few hyper-parameters, easy to interpret, they do have a major drawback being that they tend to overfit the data. Despite this, as a first example of a machine learning algorithm, decision trees are intuitive and can give you valuable insight about your which can be used to build better models. \n",
    " \n",
    "\n",
    "Introduction to the dataset\n",
    "I will use the sklearn algorithm to train a decision tree. As you will see many more lines are spent preparing the data for training rather than the actual training process (which really is just one line). The data set we are going to use can be found here -https://data.world/azel/gun-deaths-in-america. This data set is part of five thirty eight's gun deaths in America project. It contain bunch of information of victims of gun violence. Each row of the dataset contains - the year and month of the shooting, the intent of the shooter, whether cops were at the scene or not, the gender, age race and education level of the victim and finally the place where the shooting happened. There is specific information about whether the victim was hispanic or not. We take this dataset and boil it down to predicting just one of two classes- were the victims of the shooting white or black? Why ignore other victim class ? (There are 5 in total), firstly, the rest of the classes, as you will see make up less than 11% of the dataset, secondly the goal is to build a simple binary classification model, for those who are interested, I would love to work with you and build a more multi classification model for the whole dataset. \n",
    "\n",
    "The plan for the analysis is the following- \n",
    "- I will first read and display the dataset to see what are the relevant columns \n",
    "- We will have to encode certain categorical variable so we can run the decision tree on them\n",
    "- We will plot some of these categorical variables to see how skewed they are\n",
    "- We will drop rows containing non white and non black victims \n",
    "- Create test and train sets\n",
    "- Train the decision tree \n",
    "- Interpret results of the tree- I will leave that as set of the question so that the interested reader can further get involved with understanding the what the model represents"
   ]
  },
  {
   "cell_type": "code",
   "execution_count": 1,
   "metadata": {
    "ExecuteTime": {
     "end_time": "2018-01-02T16:55:46.310879Z",
     "start_time": "2018-01-02T16:55:36.068445Z"
    },
    "collapsed": true
   },
   "outputs": [],
   "source": [
    "import numpy as np \n",
    "import pandas as pd \n",
    "\n",
    "import matplotlib.pyplot as plt\n",
    "from sklearn import tree\n",
    "from sklearn import preprocessing \n",
    "from sklearn import model_selection\n",
    "from sklearn.metrics import confusion_matrix,f1_score,recall_score,precision_score,accuracy_score\n",
    "from sklearn.tree import export_graphviz\n",
    "import pydotplus\n",
    "from sklearn.externals.six import StringIO  \n",
    "from IPython.display import Image  \n"
   ]
  },
  {
   "cell_type": "code",
   "execution_count": 2,
   "metadata": {
    "ExecuteTime": {
     "end_time": "2018-01-02T16:55:46.317704Z",
     "start_time": "2018-01-02T16:55:46.310879Z"
    },
    "collapsed": true
   },
   "outputs": [],
   "source": [
    "location ='D:/datasets/fivethirtyEight-gun-violence-data.csv'"
   ]
  },
  {
   "cell_type": "code",
   "execution_count": 3,
   "metadata": {
    "ExecuteTime": {
     "end_time": "2018-01-02T16:55:48.015537Z",
     "start_time": "2018-01-02T16:55:46.320713Z"
    },
    "collapsed": true
   },
   "outputs": [],
   "source": [
    "#load dataset\n",
    "gun_violence_dataset_original= pd.read_csv(location)\n",
    "\n",
    "# remove rows with NA \n",
    "gun_violence_dataset_original = gun_violence_dataset_original.dropna()"
   ]
  },
  {
   "cell_type": "code",
   "execution_count": 4,
   "metadata": {
    "ExecuteTime": {
     "end_time": "2018-01-02T16:55:48.040215Z",
     "start_time": "2018-01-02T16:55:48.015537Z"
    }
   },
   "outputs": [
    {
     "data": {
      "text/html": [
       "<div>\n",
       "<style>\n",
       "    .dataframe thead tr:only-child th {\n",
       "        text-align: right;\n",
       "    }\n",
       "\n",
       "    .dataframe thead th {\n",
       "        text-align: left;\n",
       "    }\n",
       "\n",
       "    .dataframe tbody tr th {\n",
       "        vertical-align: top;\n",
       "    }\n",
       "</style>\n",
       "<table border=\"1\" class=\"dataframe\">\n",
       "  <thead>\n",
       "    <tr style=\"text-align: right;\">\n",
       "      <th></th>\n",
       "      <th>Unnamed: 0</th>\n",
       "      <th>year</th>\n",
       "      <th>month</th>\n",
       "      <th>intent</th>\n",
       "      <th>police</th>\n",
       "      <th>sex</th>\n",
       "      <th>age</th>\n",
       "      <th>race</th>\n",
       "      <th>hispanic</th>\n",
       "      <th>place</th>\n",
       "      <th>education</th>\n",
       "    </tr>\n",
       "  </thead>\n",
       "  <tbody>\n",
       "    <tr>\n",
       "      <th>0</th>\n",
       "      <td>1</td>\n",
       "      <td>2012</td>\n",
       "      <td>1</td>\n",
       "      <td>Suicide</td>\n",
       "      <td>0</td>\n",
       "      <td>M</td>\n",
       "      <td>34.0</td>\n",
       "      <td>Asian/Pacific Islander</td>\n",
       "      <td>100</td>\n",
       "      <td>Home</td>\n",
       "      <td>4.0</td>\n",
       "    </tr>\n",
       "    <tr>\n",
       "      <th>1</th>\n",
       "      <td>2</td>\n",
       "      <td>2012</td>\n",
       "      <td>1</td>\n",
       "      <td>Suicide</td>\n",
       "      <td>0</td>\n",
       "      <td>F</td>\n",
       "      <td>21.0</td>\n",
       "      <td>White</td>\n",
       "      <td>100</td>\n",
       "      <td>Street</td>\n",
       "      <td>3.0</td>\n",
       "    </tr>\n",
       "    <tr>\n",
       "      <th>2</th>\n",
       "      <td>3</td>\n",
       "      <td>2012</td>\n",
       "      <td>1</td>\n",
       "      <td>Suicide</td>\n",
       "      <td>0</td>\n",
       "      <td>M</td>\n",
       "      <td>60.0</td>\n",
       "      <td>White</td>\n",
       "      <td>100</td>\n",
       "      <td>Other specified</td>\n",
       "      <td>4.0</td>\n",
       "    </tr>\n",
       "    <tr>\n",
       "      <th>3</th>\n",
       "      <td>4</td>\n",
       "      <td>2012</td>\n",
       "      <td>2</td>\n",
       "      <td>Suicide</td>\n",
       "      <td>0</td>\n",
       "      <td>M</td>\n",
       "      <td>64.0</td>\n",
       "      <td>White</td>\n",
       "      <td>100</td>\n",
       "      <td>Home</td>\n",
       "      <td>4.0</td>\n",
       "    </tr>\n",
       "    <tr>\n",
       "      <th>4</th>\n",
       "      <td>5</td>\n",
       "      <td>2012</td>\n",
       "      <td>2</td>\n",
       "      <td>Suicide</td>\n",
       "      <td>0</td>\n",
       "      <td>M</td>\n",
       "      <td>31.0</td>\n",
       "      <td>White</td>\n",
       "      <td>100</td>\n",
       "      <td>Other specified</td>\n",
       "      <td>2.0</td>\n",
       "    </tr>\n",
       "  </tbody>\n",
       "</table>\n",
       "</div>"
      ],
      "text/plain": [
       "   Unnamed: 0  year  month   intent  police sex   age                    race  \\\n",
       "0           1  2012      1  Suicide       0   M  34.0  Asian/Pacific Islander   \n",
       "1           2  2012      1  Suicide       0   F  21.0                   White   \n",
       "2           3  2012      1  Suicide       0   M  60.0                   White   \n",
       "3           4  2012      2  Suicide       0   M  64.0                   White   \n",
       "4           5  2012      2  Suicide       0   M  31.0                   White   \n",
       "\n",
       "   hispanic            place  education  \n",
       "0       100             Home        4.0  \n",
       "1       100           Street        3.0  \n",
       "2       100  Other specified        4.0  \n",
       "3       100             Home        4.0  \n",
       "4       100  Other specified        2.0  "
      ]
     },
     "execution_count": 4,
     "metadata": {},
     "output_type": "execute_result"
    }
   ],
   "source": [
    "# show head \n",
    "gun_violence_dataset_original.head()"
   ]
  },
  {
   "cell_type": "markdown",
   "metadata": {},
   "source": [
    "### Show class values for race "
   ]
  },
  {
   "cell_type": "code",
   "execution_count": 5,
   "metadata": {
    "ExecuteTime": {
     "end_time": "2018-01-02T16:55:48.087341Z",
     "start_time": "2018-01-02T16:55:48.042221Z"
    }
   },
   "outputs": [
    {
     "data": {
      "text/plain": [
       "White                             65504\n",
       "Black                             22922\n",
       "Hispanic                           8734\n",
       "Asian/Pacific Islander             1294\n",
       "Native American/Native Alaskan      889\n",
       "Name: race, dtype: int64"
      ]
     },
     "execution_count": 5,
     "metadata": {},
     "output_type": "execute_result"
    }
   ],
   "source": [
    "pd.value_counts(gun_violence_dataset_original['race'])"
   ]
  },
  {
   "cell_type": "code",
   "execution_count": null,
   "metadata": {
    "collapsed": true
   },
   "outputs": [],
   "source": []
  },
  {
   "cell_type": "markdown",
   "metadata": {},
   "source": [
    "### Replace categorical column with numbers "
   ]
  },
  {
   "cell_type": "code",
   "execution_count": 6,
   "metadata": {
    "ExecuteTime": {
     "end_time": "2018-01-02T16:55:48.116419Z",
     "start_time": "2018-01-02T16:55:48.091352Z"
    },
    "collapsed": true
   },
   "outputs": [],
   "source": [
    "gun_violence_dataset = gun_violence_dataset_original.copy()\n"
   ]
  },
  {
   "cell_type": "code",
   "execution_count": 7,
   "metadata": {
    "ExecuteTime": {
     "end_time": "2018-01-02T16:55:48.378119Z",
     "start_time": "2018-01-02T16:55:48.118423Z"
    },
    "collapsed": true
   },
   "outputs": [],
   "source": [
    "columns_to_encode =  ['intent','sex','place']\n",
    "le = preprocessing.LabelEncoder()\n",
    "\n",
    "for i  in range(len(columns_to_encode)): \n",
    "    column =columns_to_encode[i]\n",
    "    gun_violence_dataset[column] = le.fit_transform(gun_violence_dataset[column])\n",
    "    "
   ]
  },
  {
   "cell_type": "code",
   "execution_count": 8,
   "metadata": {
    "ExecuteTime": {
     "end_time": "2018-01-02T16:55:48.401176Z",
     "start_time": "2018-01-02T16:55:48.380121Z"
    }
   },
   "outputs": [
    {
     "data": {
      "text/html": [
       "<div>\n",
       "<style>\n",
       "    .dataframe thead tr:only-child th {\n",
       "        text-align: right;\n",
       "    }\n",
       "\n",
       "    .dataframe thead th {\n",
       "        text-align: left;\n",
       "    }\n",
       "\n",
       "    .dataframe tbody tr th {\n",
       "        vertical-align: top;\n",
       "    }\n",
       "</style>\n",
       "<table border=\"1\" class=\"dataframe\">\n",
       "  <thead>\n",
       "    <tr style=\"text-align: right;\">\n",
       "      <th></th>\n",
       "      <th>Unnamed: 0</th>\n",
       "      <th>year</th>\n",
       "      <th>month</th>\n",
       "      <th>intent</th>\n",
       "      <th>police</th>\n",
       "      <th>sex</th>\n",
       "      <th>age</th>\n",
       "      <th>race</th>\n",
       "      <th>hispanic</th>\n",
       "      <th>place</th>\n",
       "      <th>education</th>\n",
       "    </tr>\n",
       "  </thead>\n",
       "  <tbody>\n",
       "    <tr>\n",
       "      <th>0</th>\n",
       "      <td>1</td>\n",
       "      <td>2012</td>\n",
       "      <td>1</td>\n",
       "      <td>2</td>\n",
       "      <td>0</td>\n",
       "      <td>1</td>\n",
       "      <td>34.0</td>\n",
       "      <td>Asian/Pacific Islander</td>\n",
       "      <td>100</td>\n",
       "      <td>1</td>\n",
       "      <td>4.0</td>\n",
       "    </tr>\n",
       "    <tr>\n",
       "      <th>1</th>\n",
       "      <td>2</td>\n",
       "      <td>2012</td>\n",
       "      <td>1</td>\n",
       "      <td>2</td>\n",
       "      <td>0</td>\n",
       "      <td>0</td>\n",
       "      <td>21.0</td>\n",
       "      <td>White</td>\n",
       "      <td>100</td>\n",
       "      <td>8</td>\n",
       "      <td>3.0</td>\n",
       "    </tr>\n",
       "    <tr>\n",
       "      <th>2</th>\n",
       "      <td>3</td>\n",
       "      <td>2012</td>\n",
       "      <td>1</td>\n",
       "      <td>2</td>\n",
       "      <td>0</td>\n",
       "      <td>1</td>\n",
       "      <td>60.0</td>\n",
       "      <td>White</td>\n",
       "      <td>100</td>\n",
       "      <td>3</td>\n",
       "      <td>4.0</td>\n",
       "    </tr>\n",
       "    <tr>\n",
       "      <th>3</th>\n",
       "      <td>4</td>\n",
       "      <td>2012</td>\n",
       "      <td>2</td>\n",
       "      <td>2</td>\n",
       "      <td>0</td>\n",
       "      <td>1</td>\n",
       "      <td>64.0</td>\n",
       "      <td>White</td>\n",
       "      <td>100</td>\n",
       "      <td>1</td>\n",
       "      <td>4.0</td>\n",
       "    </tr>\n",
       "    <tr>\n",
       "      <th>4</th>\n",
       "      <td>5</td>\n",
       "      <td>2012</td>\n",
       "      <td>2</td>\n",
       "      <td>2</td>\n",
       "      <td>0</td>\n",
       "      <td>1</td>\n",
       "      <td>31.0</td>\n",
       "      <td>White</td>\n",
       "      <td>100</td>\n",
       "      <td>3</td>\n",
       "      <td>2.0</td>\n",
       "    </tr>\n",
       "  </tbody>\n",
       "</table>\n",
       "</div>"
      ],
      "text/plain": [
       "   Unnamed: 0  year  month  intent  police  sex   age                    race  \\\n",
       "0           1  2012      1       2       0    1  34.0  Asian/Pacific Islander   \n",
       "1           2  2012      1       2       0    0  21.0                   White   \n",
       "2           3  2012      1       2       0    1  60.0                   White   \n",
       "3           4  2012      2       2       0    1  64.0                   White   \n",
       "4           5  2012      2       2       0    1  31.0                   White   \n",
       "\n",
       "   hispanic  place  education  \n",
       "0       100      1        4.0  \n",
       "1       100      8        3.0  \n",
       "2       100      3        4.0  \n",
       "3       100      1        4.0  \n",
       "4       100      3        2.0  "
      ]
     },
     "execution_count": 8,
     "metadata": {},
     "output_type": "execute_result"
    }
   ],
   "source": [
    "gun_violence_dataset.head()"
   ]
  },
  {
   "cell_type": "markdown",
   "metadata": {},
   "source": [
    "## Visualizing categorical data \n",
    "### Value counts for all categorical features\n",
    "We can do this since we have very few columns "
   ]
  },
  {
   "cell_type": "code",
   "execution_count": 9,
   "metadata": {
    "ExecuteTime": {
     "end_time": "2018-01-02T16:55:48.434263Z",
     "start_time": "2018-01-02T16:55:48.403181Z"
    },
    "collapsed": true
   },
   "outputs": [],
   "source": [
    "def val_count_to_percent(column): \n",
    "    return pd.value_counts(column)/(pd.value_counts(column).sum())*100 \n",
    "\n",
    "def val_count_to_percent_plot(column, fig_width=10, fig_height=10): \n",
    "    height = np.array(val_count_to_percent(column).values)\n",
    "  \n",
    "    plt.figure(figsize=(fig_width,fig_height))\n",
    "    plt.bar(range(height.shape[0]),height)\n",
    "    plt.xticks(range(height.shape[0]),np.array(val_count_to_percent(column).index), fontsize=12 )\n",
    "    plt.ylabel('Percent of data', fontsize=17)\n",
    "    plt.xlabel('Feature values',fontsize=17)\n",
    "    plt.title('column: '+column.name , fontsize= 17)\n",
    "    plt.show()\n"
   ]
  },
  {
   "cell_type": "code",
   "execution_count": 10,
   "metadata": {
    "ExecuteTime": {
     "end_time": "2018-01-02T16:55:48.779623Z",
     "start_time": "2018-01-02T16:55:48.436269Z"
    }
   },
   "outputs": [
    {
     "name": "stdout",
     "output_type": "stream",
     "text": [
      "Suicide         63.579719\n",
      "Homicide        33.973204\n",
      "Accidental       1.635747\n",
      "Undetermined     0.811330\n",
      "Name: intent, dtype: float64\n"
     ]
    },
    {
     "data": {
      "image/png": "[encoded data removed]",
      "text/plain": [
       "<matplotlib.figure.Figure at 0x1e3d92997b8>"
      ]
     },
     "metadata": {},
     "output_type": "display_data"
    },
    {
     "data": {
      "text/plain": [
       "'intent'"
      ]
     },
     "execution_count": 10,
     "metadata": {},
     "output_type": "execute_result"
    }
   ],
   "source": [
    "print(val_count_to_percent(gun_violence_dataset_original['intent']))\n",
    "val_count_to_percent_plot(gun_violence_dataset_original.intent)\n",
    "gun_violence_dataset_original.intent.name"
   ]
  },
  {
   "cell_type": "code",
   "execution_count": 11,
   "metadata": {
    "ExecuteTime": {
     "end_time": "2018-01-02T16:55:48.991154Z",
     "start_time": "2018-01-02T16:55:48.782602Z"
    }
   },
   "outputs": [
    {
     "name": "stdout",
     "output_type": "stream",
     "text": [
      "0    99.980874\n",
      "1     0.019126\n",
      "Name: police, dtype: float64\n"
     ]
    },
    {
     "data": {
      "image/png": "[encoded data removed]",
      "text/plain": [
       "<matplotlib.figure.Figure at 0x1e3d92992b0>"
      ]
     },
     "metadata": {},
     "output_type": "display_data"
    }
   ],
   "source": [
    "print(val_count_to_percent(gun_violence_dataset_original['police']))\n",
    "val_count_to_percent_plot(gun_violence_dataset_original['police'])"
   ]
  },
  {
   "cell_type": "code",
   "execution_count": 12,
   "metadata": {
    "ExecuteTime": {
     "end_time": "2018-01-02T16:55:49.340081Z",
     "start_time": "2018-01-02T16:55:48.993162Z"
    }
   },
   "outputs": [
    {
     "name": "stdout",
     "output_type": "stream",
     "text": [
      "M    85.541004\n",
      "F    14.458996\n",
      "Name: sex, dtype: float64\n"
     ]
    },
    {
     "data": {
      "image/png": "[encoded data removed]",
      "text/plain": [
       "<matplotlib.figure.Figure at 0x1e3d93d4208>"
      ]
     },
     "metadata": {},
     "output_type": "display_data"
    }
   ],
   "source": [
    "print(val_count_to_percent(gun_violence_dataset_original['sex']))\n",
    "val_count_to_percent_plot(gun_violence_dataset_original['sex'])"
   ]
  },
  {
   "cell_type": "code",
   "execution_count": 13,
   "metadata": {
    "ExecuteTime": {
     "end_time": "2018-01-02T16:55:49.582729Z",
     "start_time": "2018-01-02T16:55:49.342089Z"
    }
   },
   "outputs": [
    {
     "name": "stdout",
     "output_type": "stream",
     "text": [
      "2.0    42.537471\n",
      "1.0    21.589845\n",
      "3.0    21.571726\n",
      "4.0    12.964175\n",
      "5.0     1.336783\n",
      "Name: education, dtype: float64\n"
     ]
    },
    {
     "data": {
      "image/png": "[encoded data removed]",
      "text/plain": [
       "<matplotlib.figure.Figure at 0x1e3d7f51f60>"
      ]
     },
     "metadata": {},
     "output_type": "display_data"
    }
   ],
   "source": [
    "print(val_count_to_percent(gun_violence_dataset_original['education']))\n",
    "val_count_to_percent_plot(gun_violence_dataset_original['education'])"
   ]
  },
  {
   "cell_type": "code",
   "execution_count": 14,
   "metadata": {
    "ExecuteTime": {
     "end_time": "2018-01-02T16:55:50.135687Z",
     "start_time": "2018-01-02T16:55:49.584732Z"
    }
   },
   "outputs": [
    {
     "name": "stdout",
     "output_type": "stream",
     "text": [
      "Home                       60.842737\n",
      "Other specified            13.829862\n",
      "Street                     11.221727\n",
      "Other unspecified           8.915575\n",
      "Trade/service area          3.461744\n",
      "School/instiution           0.674431\n",
      "Farm                        0.471095\n",
      "Industrial/construction     0.249640\n",
      "Residential institution     0.204343\n",
      "Sports                      0.128847\n",
      "Name: place, dtype: float64\n"
     ]
    },
    {
     "data": {
      "image/png": "[encoded data removed]",
      "text/plain": [
       "<matplotlib.figure.Figure at 0x1e3da62f080>"
      ]
     },
     "metadata": {},
     "output_type": "display_data"
    }
   ],
   "source": [
    "print(val_count_to_percent(gun_violence_dataset_original['place']))\n",
    "val_count_to_percent_plot(gun_violence_dataset_original['place'],fig_width=35 , fig_height=15)"
   ]
  },
  {
   "cell_type": "code",
   "execution_count": 15,
   "metadata": {
    "ExecuteTime": {
     "end_time": "2018-01-02T16:55:50.398384Z",
     "start_time": "2018-01-02T16:55:50.137691Z"
    }
   },
   "outputs": [
    {
     "name": "stdout",
     "output_type": "stream",
     "text": [
      "7     8.905509\n",
      "8     8.700160\n",
      "5     8.594466\n",
      "6     8.588426\n",
      "9     8.453540\n",
      "4     8.383077\n",
      "12    8.359925\n",
      "10    8.350865\n",
      "3     8.221012\n",
      "1     8.206919\n",
      "11    8.183767\n",
      "2     7.052334\n",
      "Name: month, dtype: float64\n"
     ]
    },
    {
     "data": {
      "image/png": "[encoded data removed]",
      "text/plain": [
       "<matplotlib.figure.Figure at 0x1e3da693c88>"
      ]
     },
     "metadata": {},
     "output_type": "display_data"
    }
   ],
   "source": [
    "print(val_count_to_percent(gun_violence_dataset_original['month']))\n",
    "val_count_to_percent_plot(gun_violence_dataset_original['month'])"
   ]
  },
  {
   "cell_type": "code",
   "execution_count": 16,
   "metadata": {
    "ExecuteTime": {
     "end_time": "2018-01-02T16:55:50.618972Z",
     "start_time": "2018-01-02T16:55:50.404401Z"
    }
   },
   "outputs": [
    {
     "name": "stdout",
     "output_type": "stream",
     "text": [
      "2013    33.365209\n",
      "2014    33.344071\n",
      "2012    33.290720\n",
      "Name: year, dtype: float64\n"
     ]
    },
    {
     "data": {
      "image/png": "[encoded data removed]",
      "text/plain": [
       "<matplotlib.figure.Figure at 0x1e3d91fe278>"
      ]
     },
     "metadata": {},
     "output_type": "display_data"
    }
   ],
   "source": [
    "print(val_count_to_percent(gun_violence_dataset_original['year']))\n",
    "val_count_to_percent_plot(gun_violence_dataset_original['year'])"
   ]
  },
  {
   "cell_type": "markdown",
   "metadata": {},
   "source": [
    "From the above we can basically drop the police column since it will no contribute to any classification. One can keep it as well, shouldn't really make much of a difference.\n"
   ]
  },
  {
   "cell_type": "markdown",
   "metadata": {},
   "source": [
    "## Modifying the dataset to create binary classification problem\n",
    "### Dropping police column \n"
   ]
  },
  {
   "cell_type": "code",
   "execution_count": 17,
   "metadata": {
    "ExecuteTime": {
     "end_time": "2018-01-02T16:55:50.674120Z",
     "start_time": "2018-01-02T16:55:50.621980Z"
    }
   },
   "outputs": [
    {
     "data": {
      "text/html": [
       "<div>\n",
       "<style>\n",
       "    .dataframe thead tr:only-child th {\n",
       "        text-align: right;\n",
       "    }\n",
       "\n",
       "    .dataframe thead th {\n",
       "        text-align: left;\n",
       "    }\n",
       "\n",
       "    .dataframe tbody tr th {\n",
       "        vertical-align: top;\n",
       "    }\n",
       "</style>\n",
       "<table border=\"1\" class=\"dataframe\">\n",
       "  <thead>\n",
       "    <tr style=\"text-align: right;\">\n",
       "      <th></th>\n",
       "      <th>Unnamed: 0</th>\n",
       "      <th>year</th>\n",
       "      <th>month</th>\n",
       "      <th>intent</th>\n",
       "      <th>sex</th>\n",
       "      <th>age</th>\n",
       "      <th>race</th>\n",
       "      <th>hispanic</th>\n",
       "      <th>place</th>\n",
       "      <th>education</th>\n",
       "    </tr>\n",
       "  </thead>\n",
       "  <tbody>\n",
       "    <tr>\n",
       "      <th>0</th>\n",
       "      <td>1</td>\n",
       "      <td>2012</td>\n",
       "      <td>1</td>\n",
       "      <td>Suicide</td>\n",
       "      <td>M</td>\n",
       "      <td>34.0</td>\n",
       "      <td>Asian/Pacific Islander</td>\n",
       "      <td>100</td>\n",
       "      <td>Home</td>\n",
       "      <td>4.0</td>\n",
       "    </tr>\n",
       "    <tr>\n",
       "      <th>1</th>\n",
       "      <td>2</td>\n",
       "      <td>2012</td>\n",
       "      <td>1</td>\n",
       "      <td>Suicide</td>\n",
       "      <td>F</td>\n",
       "      <td>21.0</td>\n",
       "      <td>White</td>\n",
       "      <td>100</td>\n",
       "      <td>Street</td>\n",
       "      <td>3.0</td>\n",
       "    </tr>\n",
       "    <tr>\n",
       "      <th>2</th>\n",
       "      <td>3</td>\n",
       "      <td>2012</td>\n",
       "      <td>1</td>\n",
       "      <td>Suicide</td>\n",
       "      <td>M</td>\n",
       "      <td>60.0</td>\n",
       "      <td>White</td>\n",
       "      <td>100</td>\n",
       "      <td>Other specified</td>\n",
       "      <td>4.0</td>\n",
       "    </tr>\n",
       "    <tr>\n",
       "      <th>3</th>\n",
       "      <td>4</td>\n",
       "      <td>2012</td>\n",
       "      <td>2</td>\n",
       "      <td>Suicide</td>\n",
       "      <td>M</td>\n",
       "      <td>64.0</td>\n",
       "      <td>White</td>\n",
       "      <td>100</td>\n",
       "      <td>Home</td>\n",
       "      <td>4.0</td>\n",
       "    </tr>\n",
       "    <tr>\n",
       "      <th>4</th>\n",
       "      <td>5</td>\n",
       "      <td>2012</td>\n",
       "      <td>2</td>\n",
       "      <td>Suicide</td>\n",
       "      <td>M</td>\n",
       "      <td>31.0</td>\n",
       "      <td>White</td>\n",
       "      <td>100</td>\n",
       "      <td>Other specified</td>\n",
       "      <td>2.0</td>\n",
       "    </tr>\n",
       "  </tbody>\n",
       "</table>\n",
       "</div>"
      ],
      "text/plain": [
       "   Unnamed: 0  year  month   intent sex   age                    race  \\\n",
       "0           1  2012      1  Suicide   M  34.0  Asian/Pacific Islander   \n",
       "1           2  2012      1  Suicide   F  21.0                   White   \n",
       "2           3  2012      1  Suicide   M  60.0                   White   \n",
       "3           4  2012      2  Suicide   M  64.0                   White   \n",
       "4           5  2012      2  Suicide   M  31.0                   White   \n",
       "\n",
       "   hispanic            place  education  \n",
       "0       100             Home        4.0  \n",
       "1       100           Street        3.0  \n",
       "2       100  Other specified        4.0  \n",
       "3       100             Home        4.0  \n",
       "4       100  Other specified        2.0  "
      ]
     },
     "execution_count": 17,
     "metadata": {},
     "output_type": "execute_result"
    }
   ],
   "source": [
    "# dropping the police column\n",
    "gun_violence_dataset = gun_violence_dataset.drop(['police'], axis=1)\n",
    "\n",
    "gun_violence_dataset_org_moded =gun_violence_dataset_original.copy()\n",
    "gun_violence_dataset_org_moded = gun_violence_dataset_org_moded.drop(['police'], axis=1)\n",
    "\n",
    "# no police column \n",
    "gun_violence_dataset_org_moded.head()"
   ]
  },
  {
   "cell_type": "markdown",
   "metadata": {},
   "source": [
    "### Dropping rows with non-white/non-black victims"
   ]
  },
  {
   "cell_type": "code",
   "execution_count": 18,
   "metadata": {
    "ExecuteTime": {
     "end_time": "2018-01-02T16:55:50.736283Z",
     "start_time": "2018-01-02T16:55:50.677129Z"
    },
    "collapsed": true
   },
   "outputs": [],
   "source": [
    "drop_rows = np.where((gun_violence_dataset['race']=='Hispanic') | (gun_violence_dataset['race']=='Asian/Pacific Islander')\n",
    "                                    |(gun_violence_dataset['race']=='Asian/Pacific Islander') \n",
    "         | (gun_violence_dataset['race']=='Native American/Native Alaskan') )\n",
    "\n"
   ]
  },
  {
   "cell_type": "code",
   "execution_count": 19,
   "metadata": {
    "ExecuteTime": {
     "end_time": "2018-01-02T16:55:50.790429Z",
     "start_time": "2018-01-02T16:55:50.738288Z"
    },
    "collapsed": true
   },
   "outputs": [],
   "source": [
    "gun_violence_dataset.drop(gun_violence_dataset.index[list(drop_rows[0])], inplace=True)\n",
    "gun_violence_dataset_org_moded.drop(gun_violence_dataset_org_moded.index[list(drop_rows[0])], inplace=True)\n"
   ]
  },
  {
   "cell_type": "code",
   "execution_count": 20,
   "metadata": {
    "ExecuteTime": {
     "end_time": "2018-01-02T16:55:50.870641Z",
     "start_time": "2018-01-02T16:55:50.793435Z"
    }
   },
   "outputs": [
    {
     "data": {
      "text/plain": [
       "array(['Black', 'White'], dtype=object)"
      ]
     },
     "execution_count": 20,
     "metadata": {},
     "output_type": "execute_result"
    }
   ],
   "source": [
    "# so we have elimated all other class values other than white and black\n",
    "np.unique(gun_violence_dataset['race'])\n"
   ]
  },
  {
   "cell_type": "code",
   "execution_count": 21,
   "metadata": {
    "ExecuteTime": {
     "end_time": "2018-01-02T16:55:50.974921Z",
     "start_time": "2018-01-02T16:55:50.873648Z"
    }
   },
   "outputs": [
    {
     "data": {
      "text/html": [
       "<div>\n",
       "<style>\n",
       "    .dataframe thead tr:only-child th {\n",
       "        text-align: right;\n",
       "    }\n",
       "\n",
       "    .dataframe thead th {\n",
       "        text-align: left;\n",
       "    }\n",
       "\n",
       "    .dataframe tbody tr th {\n",
       "        vertical-align: top;\n",
       "    }\n",
       "</style>\n",
       "<table border=\"1\" class=\"dataframe\">\n",
       "  <thead>\n",
       "    <tr style=\"text-align: right;\">\n",
       "      <th></th>\n",
       "      <th>Unnamed: 0</th>\n",
       "      <th>year</th>\n",
       "      <th>month</th>\n",
       "      <th>intent</th>\n",
       "      <th>sex</th>\n",
       "      <th>age</th>\n",
       "      <th>race</th>\n",
       "      <th>hispanic</th>\n",
       "      <th>place</th>\n",
       "      <th>education</th>\n",
       "    </tr>\n",
       "  </thead>\n",
       "  <tbody>\n",
       "    <tr>\n",
       "      <th>1</th>\n",
       "      <td>2</td>\n",
       "      <td>2012</td>\n",
       "      <td>1</td>\n",
       "      <td>2</td>\n",
       "      <td>0</td>\n",
       "      <td>21.0</td>\n",
       "      <td>1</td>\n",
       "      <td>100</td>\n",
       "      <td>8</td>\n",
       "      <td>3.0</td>\n",
       "    </tr>\n",
       "    <tr>\n",
       "      <th>2</th>\n",
       "      <td>3</td>\n",
       "      <td>2012</td>\n",
       "      <td>1</td>\n",
       "      <td>2</td>\n",
       "      <td>1</td>\n",
       "      <td>60.0</td>\n",
       "      <td>1</td>\n",
       "      <td>100</td>\n",
       "      <td>3</td>\n",
       "      <td>4.0</td>\n",
       "    </tr>\n",
       "    <tr>\n",
       "      <th>3</th>\n",
       "      <td>4</td>\n",
       "      <td>2012</td>\n",
       "      <td>2</td>\n",
       "      <td>2</td>\n",
       "      <td>1</td>\n",
       "      <td>64.0</td>\n",
       "      <td>1</td>\n",
       "      <td>100</td>\n",
       "      <td>1</td>\n",
       "      <td>4.0</td>\n",
       "    </tr>\n",
       "    <tr>\n",
       "      <th>4</th>\n",
       "      <td>5</td>\n",
       "      <td>2012</td>\n",
       "      <td>2</td>\n",
       "      <td>2</td>\n",
       "      <td>1</td>\n",
       "      <td>31.0</td>\n",
       "      <td>1</td>\n",
       "      <td>100</td>\n",
       "      <td>3</td>\n",
       "      <td>2.0</td>\n",
       "    </tr>\n",
       "    <tr>\n",
       "      <th>6</th>\n",
       "      <td>7</td>\n",
       "      <td>2012</td>\n",
       "      <td>2</td>\n",
       "      <td>3</td>\n",
       "      <td>1</td>\n",
       "      <td>48.0</td>\n",
       "      <td>1</td>\n",
       "      <td>100</td>\n",
       "      <td>1</td>\n",
       "      <td>2.0</td>\n",
       "    </tr>\n",
       "  </tbody>\n",
       "</table>\n",
       "</div>"
      ],
      "text/plain": [
       "   Unnamed: 0  year  month  intent  sex   age  race  hispanic  place  \\\n",
       "1           2  2012      1       2    0  21.0     1       100      8   \n",
       "2           3  2012      1       2    1  60.0     1       100      3   \n",
       "3           4  2012      2       2    1  64.0     1       100      1   \n",
       "4           5  2012      2       2    1  31.0     1       100      3   \n",
       "6           7  2012      2       3    1  48.0     1       100      1   \n",
       "\n",
       "   education  \n",
       "1        3.0  \n",
       "2        4.0  \n",
       "3        4.0  \n",
       "4        2.0  \n",
       "6        2.0  "
      ]
     },
     "execution_count": 21,
     "metadata": {},
     "output_type": "execute_result"
    }
   ],
   "source": [
    "# must not forget to label encode the race category as well\n",
    "gun_violence_dataset['race'] = le.fit_transform(gun_violence_dataset['race'])\n",
    "gun_violence_dataset.head()"
   ]
  },
  {
   "cell_type": "markdown",
   "metadata": {},
   "source": [
    "### Creating training and testing set \n",
    "I can ofcourse manually create these by using iloc or just numpy but I will use the sklearn.model_selection"
   ]
  },
  {
   "cell_type": "code",
   "execution_count": 22,
   "metadata": {
    "ExecuteTime": {
     "end_time": "2018-01-02T16:55:51.008011Z",
     "start_time": "2018-01-02T16:55:50.976923Z"
    },
    "collapsed": true
   },
   "outputs": [],
   "source": [
    "train_X, test_X = model_selection.train_test_split(gun_violence_dataset,test_size=0.3,random_state= 1)"
   ]
  },
  {
   "cell_type": "code",
   "execution_count": 23,
   "metadata": {
    "ExecuteTime": {
     "end_time": "2018-01-02T16:55:51.022043Z",
     "start_time": "2018-01-02T16:55:51.010011Z"
    },
    "collapsed": true
   },
   "outputs": [],
   "source": [
    "train_y = train_X['race']\n",
    "train_X = train_X.drop(['race'], axis=1)\n",
    "\n",
    "test_y = test_X['race']\n",
    "test_X = test_X.drop(['race'], axis=1)\n"
   ]
  },
  {
   "cell_type": "markdown",
   "metadata": {},
   "source": [
    "### Training a decision tree \n"
   ]
  },
  {
   "cell_type": "code",
   "execution_count": 39,
   "metadata": {
    "ExecuteTime": {
     "end_time": "2018-01-02T17:04:29.225181Z",
     "start_time": "2018-01-02T17:04:28.981365Z"
    },
    "collapsed": true
   },
   "outputs": [],
   "source": [
    "clf = tree.DecisionTreeClassifier(criterion='gini', max_depth = 8,\n",
    "                                  min_samples_leaf = 100)\n",
    "\n",
    "clf = clf.fit(train_X, train_y)\n",
    "y_preds = clf.predict(test_X)\n"
   ]
  },
  {
   "cell_type": "code",
   "execution_count": 40,
   "metadata": {
    "ExecuteTime": {
     "end_time": "2018-01-02T17:04:29.454877Z",
     "start_time": "2018-01-02T17:04:29.434825Z"
    }
   },
   "outputs": [
    {
     "name": "stdout",
     "output_type": "stream",
     "text": [
      "accuracy:  0.878995778046\n"
     ]
    }
   ],
   "source": [
    "# calculate the accuracy \n",
    "print('accuracy: ', accuracy_score(test_y,y_preds))\n"
   ]
  },
  {
   "cell_type": "markdown",
   "metadata": {},
   "source": [
    "Since we are essentially dealing with a binary classification, we can use recall and precision scores as well. As we see we get fairly high values"
   ]
  },
  {
   "cell_type": "code",
   "execution_count": 41,
   "metadata": {
    "ExecuteTime": {
     "end_time": "2018-01-02T17:04:30.095878Z",
     "start_time": "2018-01-02T17:04:30.072816Z"
    }
   },
   "outputs": [
    {
     "name": "stdout",
     "output_type": "stream",
     "text": [
      "recall:  0.924864919971\n",
      "precision:  0.912676056338\n"
     ]
    }
   ],
   "source": [
    "\n",
    "print('recall: ', recall_score(test_y,y_preds))   # how many pertinent values are selected from the \n",
    "print('precision: ', precision_score(test_y,y_preds))\n"
   ]
  },
  {
   "cell_type": "markdown",
   "metadata": {
    "ExecuteTime": {
     "end_time": "2018-01-02T15:27:44.201089Z",
     "start_time": "2018-01-02T15:27:44.186221Z"
    }
   },
   "source": [
    "Visualize the decision tree "
   ]
  },
  {
   "cell_type": "code",
   "execution_count": 42,
   "metadata": {
    "ExecuteTime": {
     "end_time": "2018-01-02T17:04:51.894726Z",
     "start_time": "2018-01-02T17:04:30.873639Z"
    }
   },
   "outputs": [],
   "source": [
    "dot_data = StringIO()\n",
    "export_graphviz(clf, out_file=dot_data,  \n",
    "                filled=True, rounded=True,\n",
    "                special_characters=True)\n",
    "graph = pydotplus.graph_from_dot_data(dot_data.getvalue())  \n",
    "img_object = Image(graph.write_png('decisiontree.png'))\n"
   ]
  },
  {
   "cell_type": "code",
   "execution_count": null,
   "metadata": {
    "ExecuteTime": {
     "end_time": "2018-01-02T16:21:07.049954Z",
     "start_time": "2018-01-02T16:21:07.043438Z"
    },
    "collapsed": true
   },
   "outputs": [],
   "source": []
  },
  {
   "cell_type": "code",
   "execution_count": null,
   "metadata": {
    "collapsed": true
   },
   "outputs": [],
   "source": []
  }
 ],
 "metadata": {
  "kernelspec": {
   "display_name": "Python [conda root]",
   "language": "python",
   "name": "conda-root-py"
  },
  "language_info": {
   "codemirror_mode": {
    "name": "ipython",
    "version": 3
   },
   "file_extension": ".py",
   "mimetype": "text/x-python",
   "name": "python",
   "nbconvert_exporter": "python",
   "pygments_lexer": "ipython3",
   "version": "3.6.1"
  },
  "toc": {
   "nav_menu": {},
   "number_sections": false,
   "sideBar": true,
   "skip_h1_title": false,
   "toc_cell": true,
   "toc_position": {},
   "toc_section_display": "block",
   "toc_window_display": true
  },
  "varInspector": {
   "cols": {
    "lenName": 16,
    "lenType": 16,
    "lenVar": 40
   },
   "kernels_config": {
    "python": {
     "delete_cmd_postfix": "",
     "delete_cmd_prefix": "del ",
     "library": "var_list.py",
     "varRefreshCmd": "print(var_dic_list())"
    },
    "r": {
     "delete_cmd_postfix": ") ",
     "delete_cmd_prefix": "rm(",
     "library": "var_list.r",
     "varRefreshCmd": "cat(var_dic_list()) "
    }
   },
   "types_to_exclude": [
    "module",
    "function",
    "builtin_function_or_method",
    "instance",
    "_Feature"
   ],
   "window_display": false
  }
 },
 "nbformat": 4,
 "nbformat_minor": 2
}
