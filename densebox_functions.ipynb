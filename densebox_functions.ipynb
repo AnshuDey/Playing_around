{
 "cells": [
  {
   "cell_type": "markdown",
   "metadata": {
    "toc": "true"
   },
   "source": [
    "# Table of Contents\n",
    " <p><div class=\"lev2 toc-item\"><a href=\"#Select-Mask\" data-toc-modified-id=\"Select-Mask-01\"><span class=\"toc-item-num\">0.1&nbsp;&nbsp;</span>Select Mask</a></div><div class=\"lev2 toc-item\"><a href=\"#Classification-loss\" data-toc-modified-id=\"Classification-loss-02\"><span class=\"toc-item-num\">0.2&nbsp;&nbsp;</span>Classification loss</a></div><div class=\"lev2 toc-item\"><a href=\"#Ground-truth-encoding\" data-toc-modified-id=\"Ground-truth-encoding-03\"><span class=\"toc-item-num\">0.3&nbsp;&nbsp;</span>Ground truth encoding</a></div>"
   ]
  },
  {
   "cell_type": "code",
   "execution_count": 41,
   "metadata": {
    "ExecuteTime": {
     "end_time": "2017-12-01T11:59:47.773591Z",
     "start_time": "2017-12-01T11:59:47.770912Z"
    },
    "collapsed": true
   },
   "outputs": [],
   "source": [
    "import chainer \n",
    "import chainer.functions as F \n",
    "import numpy as np "
   ]
  },
  {
   "cell_type": "code",
   "execution_count": 42,
   "metadata": {
    "ExecuteTime": {
     "end_time": "2017-12-01T11:59:48.037437Z",
     "start_time": "2017-12-01T11:59:48.020798Z"
    }
   },
   "outputs": [
    {
     "name": "stdout",
     "output_type": "stream",
     "text": [
      "variable([[[[ 0.  1.  1.]\n",
      "            [ 0.  1.  1.]\n",
      "            [ 0.  0.  0.]]]\n",
      "\n",
      "\n",
      "          [[[ 0.  0.  0.]\n",
      "            [ 1.  1.  0.]\n",
      "            [ 1.  1.  0.]]]])\n"
     ]
    }
   ],
   "source": [
    "# Initializing the ground truth chainer tensor\n",
    "ystar_data = np.zeros((2,1,3,3))\n",
    "ystar_data[0,:,0:2,1:3] =1\n",
    "ystar_data[1,:,1:3,0:2]= 1\n",
    "\n",
    "y_star = chainer.Variable(ystar_data)\n",
    "print(y_star)"
   ]
  },
  {
   "cell_type": "code",
   "execution_count": 43,
   "metadata": {
    "ExecuteTime": {
     "end_time": "2017-12-01T11:59:48.217217Z",
     "start_time": "2017-12-01T11:59:48.207998Z"
    }
   },
   "outputs": [
    {
     "name": "stdout",
     "output_type": "stream",
     "text": [
      "variable([[[[ 0.3  0.1  0.8]\n",
      "            [ 0.4  0.1  0.9]\n",
      "            [ 0.6  0.7  0.5]]]\n",
      "\n",
      "\n",
      "          [[[ 0.3  0.1  0.8]\n",
      "            [ 0.4  0.1  0.9]\n",
      "            [ 0.6  0.7  0.5]]]])\n"
     ]
    }
   ],
   "source": [
    "# Initializing the network probability tensor\n",
    "probs = np.array([[[0.3, 0.1, 0.8], [0.4, 0.1, 0.9], [0.6, 0.7, 0.5]], [[0.3, 0.1, 0.8], [0.4, 0.1, 0.9], [0.6, 0.7, 0.5]]]).reshape(2,1,3,3)\n",
    "y_hat = chainer.Variable(probs)\n",
    "print(y_hat)"
   ]
  },
  {
   "cell_type": "code",
   "execution_count": 44,
   "metadata": {
    "ExecuteTime": {
     "end_time": "2017-12-01T11:59:48.553517Z",
     "start_time": "2017-12-01T11:59:48.546924Z"
    },
    "collapsed": true
   },
   "outputs": [],
   "source": [
    "# Calculating the absolute loss\n",
    "l_conf_abs = (y_hat - y_star)**2"
   ]
  },
  {
   "cell_type": "code",
   "execution_count": 45,
   "metadata": {
    "ExecuteTime": {
     "end_time": "2017-12-01T11:59:48.771066Z",
     "start_time": "2017-12-01T11:59:48.768836Z"
    },
    "collapsed": true
   },
   "outputs": [],
   "source": [
    "# This should be a function of its own\n",
    "# Selection mask tensor calculation numpy\n",
    "l_conf_abs_data = l_conf_abs.data\n"
   ]
  },
  {
   "cell_type": "markdown",
   "metadata": {},
   "source": [
    "## Select Mask "
   ]
  },
  {
   "cell_type": "code",
   "execution_count": 46,
   "metadata": {
    "ExecuteTime": {
     "end_time": "2017-12-01T11:59:50.008380Z",
     "start_time": "2017-12-01T11:59:49.977670Z"
    }
   },
   "outputs": [
    {
     "name": "stdout",
     "output_type": "stream",
     "text": [
      "[[[[ 0.  1.  1.]\n",
      "   [ 1.  1.  1.]\n",
      "   [ 1.  1.  1.]]]\n",
      "\n",
      "\n",
      " [[[ 1.  0.  1.]\n",
      "   [ 1.  1.  1.]\n",
      "   [ 1.  1.  1.]]]]\n"
     ]
    }
   ],
   "source": [
    "def select_mask_fn(l_conf_abs, y_star):\n",
    "    \"\"\" \n",
    "    Returns a mask for both positive and negative pixels to be selected or not\n",
    "    \n",
    "    Args:\n",
    "        l_conf_abs (b,1,h,w): Numpy array\n",
    "        y_star (b,1,h,w): Numpy array,\n",
    "        \n",
    "    Returns:\n",
    "        select_mask (b,1,h,w):\n",
    "    \n",
    "    \"\"\"\n",
    "    yinv = 1-y_star\n",
    "    l_neg = yinv*l_conf_abs\n",
    "\n",
    "    select_mask = np.zeros((2,1,3,3))\n",
    "\n",
    "    for num,i in enumerate(l_neg):\n",
    "        indices = np.argsort(i.data,axis=None )\n",
    "\n",
    "        matrix_indices = np.unravel_index(indices,(3,3))\n",
    "        matrix_indices_flipped = np.fliplr(matrix_indices)\n",
    "\n",
    "        k_value= np.sum(y_star[num,:,:])\n",
    "       \n",
    "        k_value = int(k_value)\n",
    "\n",
    "        matrix_indices_flipped = matrix_indices_flipped[:,0:k_value]\n",
    "\n",
    "        select_mask[num,0,matrix_indices_flipped[0],matrix_indices_flipped[1]]= 1\n",
    "        \n",
    "        select_mask[num,0,:,:] =select_mask[num,0,:,:] + y_star[num,0,:,:]\n",
    "        \n",
    "    return select_mask \n",
    "\n",
    "print(select_mask_fn(l_conf_abs, y_star.data))\n",
    "        \n",
    "    "
   ]
  },
  {
   "cell_type": "markdown",
   "metadata": {},
   "source": [
    "## Classification loss\n"
   ]
  },
  {
   "cell_type": "code",
   "execution_count": 47,
   "metadata": {
    "ExecuteTime": {
     "end_time": "2017-12-01T11:59:50.773881Z",
     "start_time": "2017-12-01T11:59:50.725935Z"
    }
   },
   "outputs": [
    {
     "data": {
      "text/plain": [
       "array(3.0700000000000003)"
      ]
     },
     "execution_count": 47,
     "metadata": {},
     "output_type": "execute_result"
    }
   ],
   "source": [
    "def classification_loss( y_hat, y_gt): \n",
    "    \"\"\"\n",
    "    Calculate the classification loss\n",
    "    \n",
    "    Args:\n",
    "        y_hat (b,1,h,w): Numpy array\n",
    "        y_gt (b,1,h,w): Numpy array,\n",
    "        \n",
    "    Returns:\n",
    "        scalar loss value \n",
    "        \n",
    "        \"\"\"\n",
    "    y_gt = y_star\n",
    "    loss_per_pixel = (y_hat-y_gt)**2\n",
    "    select_mask= select_mask_fn(loss_per_pixel, y_star.data)\n",
    "    selected_loss  = loss_per_pixel*select_mask    \n",
    "   \n",
    "    return np.sum(selected_loss)/selected_loss.shape[0]\n",
    "    \n",
    "    \n",
    "loss_value  = classification_loss(y_hat,y_star)\n",
    "loss_value.data"
   ]
  },
  {
   "cell_type": "markdown",
   "metadata": {
    "ExecuteTime": {
     "end_time": "2017-11-30T18:40:36.126253Z",
     "start_time": "2017-11-30T18:40:36.120077Z"
    }
   },
   "source": [
    "## Ground truth encoding "
   ]
  },
  {
   "cell_type": "code",
   "execution_count": 59,
   "metadata": {
    "ExecuteTime": {
     "end_time": "2017-12-01T12:36:46.407005Z",
     "start_time": "2017-12-01T12:36:46.394572Z"
    }
   },
   "outputs": [
    {
     "data": {
      "text/plain": [
       "array([[[[ 0.,  0.,  0.,  0.],\n",
       "         [ 0.,  0.,  0.,  0.],\n",
       "         [ 0.,  0.,  0.,  0.],\n",
       "         [ 0.,  0.,  0.,  0.]]],\n",
       "\n",
       "\n",
       "       [[[ 0.,  0.,  0.,  0.],\n",
       "         [ 0.,  0.,  0.,  0.],\n",
       "         [ 0.,  0.,  0.,  0.],\n",
       "         [ 0.,  0.,  0.,  0.]]]])"
      ]
     },
     "execution_count": 59,
     "metadata": {},
     "output_type": "execute_result"
    }
   ],
   "source": [
    "gt_data = np.zeros((2,1,4,4))\n",
    "gt_data\n"
   ]
  },
  {
   "cell_type": "code",
   "execution_count": 92,
   "metadata": {
    "ExecuteTime": {
     "end_time": "2017-12-01T13:33:15.304977Z",
     "start_time": "2017-12-01T13:33:15.299432Z"
    }
   },
   "outputs": [
    {
     "data": {
      "text/plain": [
       "array([[[[ 0.,  0.,  0.,  0.],\n",
       "         [ 0.,  1.,  1.,  0.],\n",
       "         [ 0.,  1.,  1.,  0.],\n",
       "         [ 0.,  0.,  0.,  0.]]],\n",
       "\n",
       "\n",
       "       [[[ 0.,  0.,  1.,  1.],\n",
       "         [ 0.,  0.,  1.,  1.],\n",
       "         [ 1.,  1.,  0.,  0.],\n",
       "         [ 1.,  1.,  0.,  0.]]]])"
      ]
     },
     "execution_count": 92,
     "metadata": {},
     "output_type": "execute_result"
    }
   ],
   "source": [
    "# box dimensions \n",
    "box_ch1 = np.array([1,1,2,2])\n",
    "\n",
    "gt_data[0,0,1:3,1:3] = 1 \n",
    "gt_data\n"
   ]
  },
  {
   "cell_type": "code",
   "execution_count": 93,
   "metadata": {
    "ExecuteTime": {
     "end_time": "2017-12-01T13:34:25.895537Z",
     "start_time": "2017-12-01T13:34:25.837227Z"
    }
   },
   "outputs": [
    {
     "data": {
      "text/plain": [
       "array([[[[ 0.,  0.,  0.,  0.],\n",
       "         [ 0.,  1.,  1.,  0.],\n",
       "         [ 0.,  1.,  1.,  0.],\n",
       "         [ 0.,  0.,  0.,  0.]]],\n",
       "\n",
       "\n",
       "       [[[ 0.,  0.,  1.,  1.],\n",
       "         [ 0.,  0.,  1.,  1.],\n",
       "         [ 1.,  1.,  0.,  0.],\n",
       "         [ 1.,  1.,  0.,  0.]]]])"
      ]
     },
     "execution_count": 93,
     "metadata": {},
     "output_type": "execute_result"
    }
   ],
   "source": [
    "# box dimensions \n",
    "box_ch2 = np.array(([0,2,2,3],[0,2,3,1]) )\n",
    "\n",
    "gt_data[1,0,0:2,2:4] = 1\n",
    "gt_data[1,0,2:4,0:2] = 1\n",
    "\n",
    "gt_data"
   ]
  },
  {
   "cell_type": "code",
   "execution_count": 103,
   "metadata": {
    "ExecuteTime": {
     "end_time": "2017-12-01T13:42:44.300182Z",
     "start_time": "2017-12-01T13:42:44.285979Z"
    }
   },
   "outputs": [
    {
     "name": "stdout",
     "output_type": "stream",
     "text": [
      "center_x  1.0 center_y  2.5\n",
      "center_x  1.5 center_y  1.5\n"
     ]
    }
   ],
   "source": [
    "def box2center(val ): \n",
    "    \n",
    "    center_x = val[0] +((val[2]-val[0])/2)\n",
    "    center_y = val[1] +((val[3]-val[1])/2)\n",
    "    width= val[2] -val[0]\n",
    "    height = val[3] -val[1]\n",
    "    \n",
    "    return(np.array([center_x, center_y, width, height]))\n",
    "    \n",
    "    \n",
    "all_centers=  np.zeros((2,1,4))  \n",
    "\n",
    "for i, val in enumerate(box_ch2): \n",
    "    center_x,center_y, width, height = box2center(val)\n",
    "  \n",
    "    print('center_x ',center_x,'center_y ',center_y)\n",
    "        "
   ]
  },
  {
   "cell_type": "code",
   "execution_count": 100,
   "metadata": {
    "ExecuteTime": {
     "end_time": "2017-12-01T13:41:35.929529Z",
     "start_time": "2017-12-01T13:41:35.922387Z"
    }
   },
   "outputs": [
    {
     "name": "stdout",
     "output_type": "stream",
     "text": [
      "(array([0, 0, 0, 0]), array([1, 1, 2, 2]), array([1, 2, 1, 2]))\n",
      "(array([0, 0, 0, 0, 0, 0, 0, 0]), array([0, 0, 1, 1, 2, 2, 3, 3]), array([2, 3, 2, 3, 0, 1, 0, 1]))\n"
     ]
    }
   ],
   "source": [
    "## First object  \n",
    "box_shifts = np.zeros((2,4,4,4))\n",
    "\n",
    "\n",
    "for i,val in enumerate(gt_data): \n",
    "    shift_channel =  box_shifts[i,0,:,:] \n",
    "    indices = np.where(val==1)\n",
    "    \n",
    "    print(indices)\n",
    "    "
   ]
  },
  {
   "cell_type": "code",
   "execution_count": 99,
   "metadata": {
    "ExecuteTime": {
     "end_time": "2017-12-01T13:37:55.519398Z",
     "start_time": "2017-12-01T13:37:55.505786Z"
    }
   },
   "outputs": [
    {
     "name": "stdout",
     "output_type": "stream",
     "text": [
      "1.0 2.5\n",
      "1.5 1.5\n"
     ]
    }
   ],
   "source": [
    "\n"
   ]
  },
  {
   "cell_type": "code",
   "execution_count": null,
   "metadata": {
    "collapsed": true
   },
   "outputs": [],
   "source": []
  }
 ],
 "metadata": {
  "kernelspec": {
   "display_name": "Python 3",
   "language": "python",
   "name": "python3"
  },
  "language_info": {
   "codemirror_mode": {
    "name": "ipython",
    "version": 3
   },
   "file_extension": ".py",
   "mimetype": "text/x-python",
   "name": "python",
   "nbconvert_exporter": "python",
   "pygments_lexer": "ipython3",
   "version": "3.5.2"
  },
  "toc": {
   "colors": {
    "hover_highlight": "#DAA520",
    "navigate_num": "#000000",
    "navigate_text": "#333333",
    "running_highlight": "#FF0000",
    "selected_highlight": "#FFD700",
    "sidebar_border": "#EEEEEE",
    "wrapper_background": "#FFFFFF"
   },
   "moveMenuLeft": true,
   "nav_menu": {
    "height": "12px",
    "width": "252px"
   },
   "navigate_menu": true,
   "number_sections": false,
   "sideBar": true,
   "threshold": 4,
   "toc_cell": true,
   "toc_position": {
    "height": "858px",
    "left": "0px",
    "right": "1653px",
    "top": "107px",
    "width": "212px"
   },
   "toc_section_display": "block",
   "toc_window_display": true,
   "widenNotebook": false
  },
  "varInspector": {
   "cols": {
    "lenName": 16,
    "lenType": 16,
    "lenVar": 40
   },
   "kernels_config": {
    "python": {
     "delete_cmd_postfix": "",
     "delete_cmd_prefix": "del ",
     "library": "var_list.py",
     "varRefreshCmd": "print(var_dic_list())"
    },
    "r": {
     "delete_cmd_postfix": ") ",
     "delete_cmd_prefix": "rm(",
     "library": "var_list.r",
     "varRefreshCmd": "cat(var_dic_list()) "
    }
   },
   "types_to_exclude": [
    "module",
    "function",
    "builtin_function_or_method",
    "instance",
    "_Feature"
   ],
   "window_display": false
  }
 },
 "nbformat": 4,
 "nbformat_minor": 2
}
