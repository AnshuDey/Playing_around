{
 "cells": [
  {
   "cell_type": "markdown",
   "metadata": {
    "extensions": {
     "jupyter_dashboards": {
      "version": 1,
      "views": {
       "grid_default": {},
       "report_default": {
        "hidden": false
       }
      }
     }
    },
    "toc": "true"
   },
   "source": [
    " # Table of Contents\n",
    "<div class=\"toc\" style=\"margin-top: 1em;\"><ul class=\"toc-item\" id=\"toc-level0\"><li><span><a href=\"http://localhost:8888/notebooks/OneDrive/Documents/data_science_stuff/Personal_projects/CSG_stuff/Final_look.ipynb?dashboard#Data-visualization---Iris-dataset\" data-toc-modified-id=\"Data-visualization---Iris-dataset-1\">Data visualization - Iris dataset</a></span></li></ul></div>"
   ]
  },
  {
   "cell_type": "markdown",
   "metadata": {
    "extensions": {
     "jupyter_dashboards": {
      "version": 1,
      "views": {
       "grid_default": {},
       "report_default": {
        "hidden": false
       }
      }
     }
    }
   },
   "source": [
    "# Data visualization - Iris dataset\n",
    "\n",
    "This notebook shows a comparison of plots between each of the features of the iris dataset. The plots are interactive, you can hover over them see their x and y location, the row number of the data point and the original label of the point in the dataset.  \n",
    "\n",
    "The here I have used K means algorithm to cluster dataset, and in case each plot I have colored the dots according to the predicted category, you can decipher the original category by just hovering over the point. \n",
    "\n",
    "The whole goal here is that it is a cute exercise in data visualization using bqplot and python widgets.  \n",
    "\n",
    "bqplot is a rather interesting plotting library. While platforms like bokeh and plotly have more mature plotting options compared to bqplot, there are a few interesting features that bqplot offers that others don't. One being that your plots are javascript objects that you can interact with in the notebook. Then there is the fact that you can actually move the data points around in the plot. This feature I find to be the most fascinating, this means you don't have to go back to some array and keep changing values or repeatedly plot another, you can just select and move your points around and you can write a function to, for example, recalculate the standard deviation or mean or some fitted curve. \n",
    "\n"
   ]
  },
  {
   "cell_type": "code",
   "execution_count": 3,
   "metadata": {
    "ExecuteTime": {
     "end_time": "2017-10-16T17:36:29.929364Z",
     "start_time": "2017-10-16T17:36:29.395321Z"
    },
    "code_folding": [],
    "collapsed": true,
    "extensions": {
     "jupyter_dashboards": {
      "version": 1,
      "views": {
       "grid_default": {
        "hidden": true
       },
       "report_default": {
        "hidden": true
       }
      }
     }
    }
   },
   "outputs": [],
   "source": [
    "from bqplot import pyplot as plt\n",
    "import pandas as pd \n",
    "from sklearn import datasets\n",
    "from sklearn.cluster import  KMeans\n",
    "from bqplot import * \n",
    "import sklearn.metrics as sm\n",
    "from bqplot.interacts import (\n",
    "    FastIntervalSelector, IndexSelector, BrushIntervalSelector,\n",
    "    BrushSelector, MultiSelector, LassoSelector, PanZoom, HandDraw\n",
    ")\n",
    "\n",
    "\n",
    "from ipywidgets import ToggleButtons, VBox, HTML\n",
    "class plotting_bq:\n",
    "    def __init__(self,\n",
    "                 field1=None,\n",
    "                 field2=None,\n",
    "                 switch_list=[0, 1, 2],\n",
    "                 label_flag=None,\n",
    "                 chart=None):\n",
    "        \n",
    "        self.field1 = field1\n",
    "        self.field2 = field2\n",
    "        self.switch_list = switch_list\n",
    "        self.label_flag = label_flag\n",
    "\n",
    "        self.label1 = 'setosa'\n",
    "        self.label2 = 'versicolor'\n",
    "        self.label3 = 'virginica'\n",
    "\n",
    "        self.xposS = 0.2\n",
    "        self.xposV = 0.2\n",
    "        self.xposVR = 0.3\n",
    "\n",
    "        self.yposS = 0.2\n",
    "        self.yposV = 0.2\n",
    "        self.yposVR = 0.3\n",
    "        self.chart = 0\n",
    "\n",
    "    def set_scales(self):\n",
    "        '''Set color and axis scale for the chart '''\n",
    "        col_sec = ColorScale(colors=['Red', 'Green', 'Blue'])\n",
    "        sc_x = LinearScale()\n",
    "        sc_y = LinearScale()\n",
    "        return col_sec, sc_x, sc_y\n",
    "\n",
    "    def axis_options(self, sc_x, sc_y):\n",
    "        '''provide axis options'''\n",
    "        ax_x = Axis(label=self.field1, scale=sc_x)\n",
    "        ax_y = Axis(\n",
    "            label=self.field2,\n",
    "            scale=sc_y,\n",
    "            orientation='vertical',\n",
    "            tick_format='0.2f')\n",
    "\n",
    "        return ax_x, ax_y\n",
    "\n",
    "    def plotting(self, all_dataframe):\n",
    "        '''Plot adjust the various options and plot the figure'''\n",
    "        kmeans = self.kmeans()\n",
    "        ypred = np.choose(kmeans.labels_, self.switch_list)\n",
    "\n",
    "        # set color scales and axis scales\n",
    "        col_sec, sc_x, sc_y = self.set_scales()\n",
    "\n",
    "        scatter_chart = Scatter(\n",
    "            x=all_dataframe[self.field1],\n",
    "            y=all_dataframe[self.field2],\n",
    "            scales={'x': sc_x,\n",
    "                    'y': sc_y,\n",
    "                    'color': col_sec},\n",
    "            colors=['blue'],\n",
    "            color=ypred,\n",
    "            names=all_dataframe['fname'],\n",
    "            names_unique=False,\n",
    "            display_names=False,\n",
    "            enable_move=True,\n",
    "            enable_hover=True,\n",
    "            tooltip=Tooltip(\n",
    "                fields=['name', 'index', 'x', 'y'],\n",
    "                labels=['Original_name', 'Row', 'x', 'y']),\n",
    "            interactions={'click': 'select',\n",
    "                          'hover': 'tooltip'},\n",
    "            unselected_style={'opacity': 0.6},\n",
    "            selected_style={'opacity': 1.0})\n",
    "\n",
    "        # axis options\n",
    "        ax_x, ax_y = self.axis_options(sc_x, sc_y)\n",
    "\n",
    "        self.list_selected_points(scatter_chart)\n",
    "\n",
    "        panzoom = PanZoom(scales={'x': [sc_x], 'y': [sc_y]})\n",
    "        \n",
    "        self.chart = scatter_chart\n",
    "\n",
    "       \n",
    "        colors = ['Red', 'Green', 'Blue']\n",
    "\n",
    "        label1 = self.place_label(self.xposS, self.yposS, self.label1,\n",
    "                                  colors[0])\n",
    "        label2 = self.place_label(self.xposV, self.yposV, self.label2,\n",
    "                                  colors[1])\n",
    "        label3 = self.place_label(self.xposVR, self.yposVR, self.label3,\n",
    "                                  colors[2])\n",
    "            \n",
    "        return Figure(\n",
    "                axes=[ax_x, ax_y],\n",
    "                marks=[scatter_chart, label2, label3, label1], \n",
    "                title = self.field1 + ' vs ' + self.field2)\n",
    "            \n",
    "       \n",
    "\n",
    "    def list_selected_points(self, chart):\n",
    "        def observe_selected(change):\n",
    "            return (print('Row number {}'.format(self.chart.selected)))\n",
    "\n",
    "        return chart.observe(observe_selected, 'selected')\n",
    "\n",
    "    def get_data(self):\n",
    "\n",
    "        iris_dataset = datasets.load_iris()\n",
    "        X = iris_dataset.data\n",
    "        y = iris_dataset.target\n",
    "        names = iris_dataset.target_names\n",
    "        iris = pd.DataFrame(data=iris_dataset.data)\n",
    "        iris.columns = iris_dataset.feature_names\n",
    "\n",
    "        data_subset = iris[[self.field1, self.field2]]\n",
    "        name_list = []\n",
    "        for i in range(0, y.shape[0]):\n",
    "            name_list.append(iris_dataset.target_names[y[i]])\n",
    "\n",
    "        name_list1 = pd.DataFrame({'fname': name_list})\n",
    "        all_data = pd.concat([data_subset, name_list1], axis=1)\n",
    "\n",
    "        return all_data\n",
    "\n",
    "    def kmeans(self):\n",
    "\n",
    "        dataset = self.get_data()\n",
    "        kmeans_object = KMeans(\n",
    "            n_clusters=3,\n",
    "            random_state=1).fit(dataset[[self.field1, self.field2]])\n",
    "        return kmeans_object\n",
    "\n",
    "    def place_label(self, xpos, ypos, text, color):\n",
    "        return Label(\n",
    "            x=[xpos],\n",
    "            y=[ypos],\n",
    "            default_size=16,\n",
    "            font_weight='bolder',\n",
    "            colors=[color],\n",
    "            text=[text],\n",
    "            enable_move=True)\n",
    "    \n",
    "def plots(arg):\n",
    "    figlist={'petal width vs petal length': 1, \n",
    "              'petal width vs sepal length': 2,\n",
    "              'petal width vs sepal width':3,  \n",
    "              'petal length vs sepal width':4, \n",
    "              'petal length vs sepal length': 5, \n",
    "               'sepal length vs sepal width':6 \n",
    "            \n",
    "           }\n",
    "    plotit = plotting_bq()\n",
    "    if figlist[arg] == 1:         \n",
    "        plotit.field1= 'petal width (cm)'\n",
    "        plotit.field2 = 'petal length (cm)'\n",
    "        plotit.label_flag =1\n",
    "        plotit.xposV= 0.2\n",
    "        plotit.yposV =0.5\n",
    "        plotit.xposVR = 0.8\n",
    "        plotit.yposVR = 0.5\n",
    "\n",
    "        plotit.switch_list =[0,2,1]\n",
    "        all_data = plotit.get_data()\n",
    "    \n",
    "    elif figlist[arg] == 2: \n",
    "        \n",
    "        plotit.field1= 'petal width (cm)'\n",
    "        plotit.field2 = 'sepal length (cm)'\n",
    "        plotit.label_flag =1\n",
    "        plotit.xposS= 0.2\n",
    "        plotit.yposS =0.08\n",
    "\n",
    "        plotit.xposV= 0.2\n",
    "        plotit.yposV =0.5\n",
    "        plotit.xposVR = 0.6\n",
    "        plotit.yposVR = 0.9\n",
    "\n",
    "        plotit.switch_list =[2,0,1]\n",
    "        all_data = plotit.get_data()\n",
    "\n",
    "    elif figlist[arg] == 3 : \n",
    "        \n",
    "        plotit.field1= 'petal width (cm)'\n",
    "        plotit.field2 = 'sepal width (cm)'\n",
    "        plotit.label_flag =1\n",
    "        plotit.xposS= 0.05\n",
    "        plotit.yposS =0.3\n",
    "\n",
    "        plotit.xposV= 0.3\n",
    "        plotit.yposV =0.5\n",
    "        plotit.xposVR = 0.6\n",
    "        plotit.yposVR = 0.7\n",
    "\n",
    "        plotit.switch_list =[0,2,1]\n",
    "        all_data = plotit.get_data()\n",
    "\n",
    "    elif figlist[arg] ==4: \n",
    "        plotit.field1= 'petal length (cm)'\n",
    "        plotit.field2 = 'sepal width (cm)'\n",
    "        plotit.label_flag =1\n",
    "        plotit.xposS= 0.05\n",
    "        plotit.yposS =0.3\n",
    "\n",
    "        plotit.xposV= 0.4\n",
    "        plotit.yposV =0.6\n",
    "        plotit.xposVR = 0.7\n",
    "        plotit.yposVR = 0.7\n",
    "\n",
    "        plotit.switch_list =[0,2,1]\n",
    "        all_data = plotit.get_data()\n",
    "\n",
    "\n",
    "    elif figlist[arg] == 5 : \n",
    "        plotit.field1= 'petal length (cm)'\n",
    "        plotit.field2 = 'sepal length (cm)'\n",
    "        plotit.label_flag =1\n",
    "        plotit.xposS= 0.05\n",
    "        plotit.yposS =0.6\n",
    "\n",
    "        plotit.xposV= 0.4\n",
    "        plotit.yposV =0.6\n",
    "        plotit.xposVR = 0.7\n",
    "        plotit.yposVR = 0.9\n",
    "\n",
    "        plotit.switch_list =[0,2,1]\n",
    "        all_data = plotit.get_data()\n",
    "\n",
    "            \n",
    "        \n",
    "    elif figlist[arg] ==6: \n",
    "        plotit.field1= 'sepal length (cm)'\n",
    "        plotit.field2 = 'sepal width (cm)'\n",
    "        plotit.label_flag =1\n",
    "        plotit.xposS= 0.05\n",
    "        plotit.yposS =0.8\n",
    "\n",
    "        plotit.xposV= 0.4\n",
    "        plotit.yposV =0.6\n",
    "        plotit.xposVR = 0.7\n",
    "        plotit.yposVR = 0.7\n",
    "\n",
    "        plotit.switch_list =[2,0,1]\n",
    "        \n",
    "        all_data = plotit.get_data()\n",
    "\n",
    "        \n",
    "        \n",
    "    return plotit.plotting(all_data)\n",
    "        \n"
   ]
  },
  {
   "cell_type": "code",
   "execution_count": 4,
   "metadata": {
    "ExecuteTime": {
     "end_time": "2017-10-16T17:36:30.464193Z",
     "start_time": "2017-10-16T17:36:30.271679Z"
    },
    "extensions": {
     "jupyter_dashboards": {
      "version": 1,
      "views": {
       "grid_default": {},
       "report_default": {
        "hidden": false
       }
      }
     }
    }
   },
   "outputs": [
    {
     "data": {
      "application/vnd.jupyter.widget-view+json": {
       "model_id": "ced123a2ebc44c299972ec52f3aa7c09",
       "version_major": 2,
       "version_minor": 0
      },
      "text/html": [
       "<p>Failed to display Jupyter Widget of type <code>interactive</code>.</p>\n",
       "<p>\n",
       "  If you're reading this message in Jupyter Notebook or JupyterLab, it may mean\n",
       "  that the widgets JavaScript is still loading. If this message persists, it\n",
       "  likely means that the widgets JavaScript library is either not installed or\n",
       "  not enabled. See the <a href=\"https://ipywidgets.readthedocs.io/en/stable/user_install.html\">Jupyter\n",
       "  Widgets Documentation</a> for setup instructions.\n",
       "</p>\n",
       "<p>\n",
       "  If you're reading this message in another notebook frontend (for example, a static\n",
       "  rendering on GitHub or <a href=\"https://nbviewer.jupyter.org/\">NBViewer</a>),\n",
       "  it may mean that your frontend doesn't currently support widgets.\n",
       "</p>\n"
      ],
      "text/plain": [
       "interactive(children=(Select(description='COMPARE :', options=('petal width vs petal length', 'petal width vs sepal length', 'petal width vs sepal width', 'petal length vs sepal width', 'petal length vs sepal length', 'sepal length vs sepal width'), value='petal width vs petal length'), Output()), _dom_classes=('widget-interact',))"
      ]
     },
     "metadata": {},
     "output_type": "display_data"
    },
    {
     "data": {
      "text/plain": [
       "<function __main__.plots>"
      ]
     },
     "execution_count": 4,
     "metadata": {},
     "output_type": "execute_result"
    }
   ],
   "source": [
    "    \n",
    "from IPython.display import display\n",
    "import ipywidgets as widgets \n",
    "from ipywidgets import HBox, VBox\n",
    "w = widgets.Select(\n",
    "    options=['petal width vs petal length', \n",
    "              'petal width vs sepal length',\n",
    "              'petal width vs sepal width', \n",
    "              'petal length vs sepal width',\n",
    "              'petal length vs sepal length',\n",
    "               'sepal length vs sepal width',\n",
    "            \n",
    "            ],\n",
    "    # rows=10,\n",
    "    description='COMPARE :',\n",
    "    disabled=False\n",
    ")\n",
    "widgets.interact(plots,arg = w)"
   ]
  },
  {
   "cell_type": "code",
   "execution_count": null,
   "metadata": {
    "collapsed": true,
    "extensions": {
     "jupyter_dashboards": {
      "version": 1,
      "views": {
       "grid_default": {},
       "report_default": {
        "hidden": true
       }
      }
     }
    }
   },
   "outputs": [],
   "source": []
  }
 ],
 "metadata": {
  "extensions": {
   "jupyter_dashboards": {
    "activeView": "report_default",
    "version": 1,
    "views": {
     "grid_default": {
      "cellMargin": 10,
      "defaultCellHeight": 20,
      "maxColumns": 12,
      "name": "grid",
      "type": "grid"
     },
     "report_default": {
      "name": "report",
      "type": "report"
     }
    }
   }
  },
  "kernelspec": {
   "display_name": "Python [default]",
   "language": "python",
   "name": "python3"
  },
  "language_info": {
   "codemirror_mode": {
    "name": "ipython",
    "version": 3
   },
   "file_extension": ".py",
   "mimetype": "text/x-python",
   "name": "python",
   "nbconvert_exporter": "python",
   "pygments_lexer": "ipython3",
   "version": "3.6.1"
  },
  "toc": {
   "nav_menu": {},
   "number_sections": false,
   "sideBar": true,
   "skip_h1_title": false,
   "toc_cell": true,
   "toc_position": {
    "height": "774px",
    "left": "0px",
    "right": "20px",
    "top": "33px",
    "width": "185px"
   },
   "toc_section_display": "block",
   "toc_window_display": true
  },
  "varInspector": {
   "cols": {
    "lenName": 16,
    "lenType": 16,
    "lenVar": 40
   },
   "kernels_config": {
    "python": {
     "delete_cmd_postfix": "",
     "delete_cmd_prefix": "del ",
     "library": "var_list.py",
     "varRefreshCmd": "print(var_dic_list())"
    },
    "r": {
     "delete_cmd_postfix": ") ",
     "delete_cmd_prefix": "rm(",
     "library": "var_list.r",
     "varRefreshCmd": "cat(var_dic_list()) "
    }
   },
   "types_to_exclude": [
    "module",
    "function",
    "builtin_function_or_method",
    "instance",
    "_Feature"
   ],
   "window_display": false
  }
 },
 "nbformat": 4,
 "nbformat_minor": 2
}
