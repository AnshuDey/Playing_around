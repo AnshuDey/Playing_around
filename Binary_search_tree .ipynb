{
 "cells": [
  {
   "cell_type": "markdown",
   "metadata": {},
   "source": [
    "# Binary search tree"
   ]
  },
  {
   "cell_type": "markdown",
   "metadata": {},
   "source": [
    "So first order of business is to define what the node of the tree does. The node must have a two pointers to point towards which direction to search. So these will be the left and right child. So the node has to be written in such a way that the right and the left child are accounted for. \n",
    "\n",
    "So there are the pointer values for left node, right node, data stored, key value"
   ]
  },
  {
   "cell_type": "code",
   "execution_count": 122,
   "metadata": {},
   "outputs": [],
   "source": [
    "class TreeNode: \n",
    "    \n",
    "    def __init__(self, key ): \n",
    "        self.left = None \n",
    "        self.right  = None  \n",
    "        self.parent= None \n",
    "        self.val = key\n",
    "        \n",
    "    def insert(self,parent,val):\n",
    "        \n",
    "        if self.val > val: \n",
    "            if self.left: \n",
    "                self.left.insert(parent,val)\n",
    "            else: \n",
    "                self.left = TreeNode(val)\n",
    "                self.left.parent =parent     \n",
    "        \n",
    "        else: \n",
    "            if self.right: \n",
    "                self.right.insert(parent,val)\n",
    "            else: \n",
    "                self.right = TreeNode(val)\n",
    "                self.right.parent =parent\n",
    "           \n",
    "        \n",
    "    def return_data(self):\n",
    "        return self.val\n",
    "    \n",
    "    def return_parent(self):    \n",
    "        return self.parent\n",
    "   \n",
    "    def return_left(self):\n",
    "        return self.left\n",
    "    \n",
    "    def return_right(self):\n",
    "        return self.right\n",
    "    \n",
    "    def postorder(self): \n",
    "        if self:\n",
    "            if self.left: \n",
    "                self.left.postorder()\n",
    "            if self.right: \n",
    "                self.right.postorder()\n",
    "        \n",
    "            print(self.val)\n",
    "\n",
    "            \n",
    "            \n",
    "class BinaryTree: \n",
    "    def __init__(self): \n",
    "        self.root = None \n",
    "    \n",
    "    def insert(self,data):\n",
    "        if not self.root: \n",
    "            self.root=TreeNode(data)\n",
    "            return True \n",
    "        else:\n",
    "            self.root.insert(self.root,data)\n",
    "            \n",
    "\n",
    "    def postorder(self): \n",
    "        if self.root is not None: \n",
    "            self.root.postorder()\n",
    "        \n",
    "    def get_root(self):\n",
    "        print(self.root.val)\n",
    "        "
   ]
  },
  {
   "cell_type": "code",
   "execution_count": 125,
   "metadata": {},
   "outputs": [
    {
     "name": "stdout",
     "output_type": "stream",
     "text": [
      "1\n",
      "5\n",
      "34\n",
      "13\n",
      "10\n"
     ]
    }
   ],
   "source": [
    "t = BinaryTree()\n",
    "\n",
    "t.insert(10)\n",
    "t.insert(5)\n",
    "t.insert(13)\n",
    "t.insert(34)\n",
    "t.insert(1)\n",
    "t.postorder()"
   ]
  },
  {
   "cell_type": "code",
   "execution_count": null,
   "metadata": {
    "collapsed": true
   },
   "outputs": [],
   "source": []
  }
 ],
 "metadata": {
  "kernelspec": {
   "display_name": "Python 3",
   "language": "python",
   "name": "python3"
  },
  "language_info": {
   "codemirror_mode": {
    "name": "ipython",
    "version": 3
   },
   "file_extension": ".py",
   "mimetype": "text/x-python",
   "name": "python",
   "nbconvert_exporter": "python",
   "pygments_lexer": "ipython3",
   "version": "3.6.1"
  }
 },
 "nbformat": 4,
 "nbformat_minor": 2
}
